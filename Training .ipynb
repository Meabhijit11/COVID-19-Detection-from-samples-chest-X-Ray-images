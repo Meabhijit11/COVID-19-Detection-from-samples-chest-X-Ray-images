{
 "cells": [
  {
   "cell_type": "code",
   "execution_count": 1,
   "metadata": {},
   "outputs": [],
   "source": [
    "import pickle"
   ]
  },
  {
   "cell_type": "code",
   "execution_count": 2,
   "metadata": {},
   "outputs": [],
   "source": [
    "X = pickle.load(open('X.pkl', 'rb')) # loading preproccesed images\n",
    "y = pickle.load(open('y.pkl', 'rb'))# loading Labels"
   ]
  },
  {
   "cell_type": "code",
   "execution_count": 3,
   "metadata": {},
   "outputs": [
    {
     "data": {
      "text/plain": [
       "array([0, 0, 0, ..., 1, 1, 1])"
      ]
     },
     "execution_count": 3,
     "metadata": {},
     "output_type": "execute_result"
    }
   ],
   "source": [
    "y"
   ]
  },
  {
   "cell_type": "code",
   "execution_count": 4,
   "metadata": {},
   "outputs": [],
   "source": [
    "X = X/255 # normalizing images "
   ]
  },
  {
   "cell_type": "code",
   "execution_count": null,
   "metadata": {},
   "outputs": [],
   "source": []
  },
  {
   "cell_type": "code",
   "execution_count": 5,
   "metadata": {},
   "outputs": [],
   "source": [
    "X = X.reshape(-1, 100, 100, 1) # reshaping it for CNN"
   ]
  },
  {
   "cell_type": "code",
   "execution_count": 6,
   "metadata": {},
   "outputs": [],
   "source": [
    "import tensorflow as tf"
   ]
  },
  {
   "cell_type": "code",
   "execution_count": 7,
   "metadata": {},
   "outputs": [],
   "source": [
    "from tensorflow import keras\n",
    "from tensorflow.keras.models import Sequential\n",
    "from tensorflow.keras.layers import Conv2D, MaxPooling2D, Dense, Flatten\n",
    "from tensorflow.keras.models import Sequential\n",
    "from tensorflow.keras.layers import Dense, Dropout, Flatten\n",
    "from tensorflow.keras.layers import Conv2D,Activation,MaxPooling2D\n"
   ]
  },
  {
   "cell_type": "code",
   "execution_count": 8,
   "metadata": {},
   "outputs": [],
   "source": [
    "# Designing CNN\n",
    "model = Sequential()\n",
    "\n",
    "model.add(Conv2D(64, (3,3), activation = 'relu')) \n",
    "model.add(MaxPooling2D((2,2)))\n",
    "\n",
    "model.add(Conv2D(32, (3,3), activation = 'relu'))\n",
    "model.add(MaxPooling2D((2,2)))\n",
    "\n",
    "model.add(Flatten())\n",
    "\n",
    "model.add(Dense(128, input_shape = X.shape[1:], activation = 'relu'))\n",
    "model.add(Dropout(0.5))\n",
    "\n",
    "model.add(Dense(128,activation='relu'))\n",
    "model.add(Dropout(0.5))\n",
    "\n",
    "model.add(Dense(64,activation='relu'))\n",
    "model.add(Dropout(0.5))\n",
    "\n",
    "model.add(Dense(2, activation = 'softmax'))"
   ]
  },
  {
   "cell_type": "code",
   "execution_count": 9,
   "metadata": {},
   "outputs": [],
   "source": [
    "from sklearn.model_selection import train_test_split\n",
    "\n",
    "train_data,test_data,train_target,test_target=train_test_split(X,y,test_size=0.1)"
   ]
  },
  {
   "cell_type": "code",
   "execution_count": 10,
   "metadata": {},
   "outputs": [],
   "source": [
    "model.compile(optimizer='adam',\n",
    "              loss='sparse_categorical_crossentropy',\n",
    "              metrics=['accuracy'])"
   ]
  },
  {
   "cell_type": "code",
   "execution_count": 11,
   "metadata": {},
   "outputs": [
    {
     "name": "stdout",
     "output_type": "stream",
     "text": [
      "Epoch 1/15\n",
      "64/64 [==============================] - 27s 405ms/step - loss: 0.4640 - accuracy: 0.7357\n",
      "Epoch 2/15\n",
      "64/64 [==============================] - 26s 409ms/step - loss: 0.1462 - accuracy: 0.9530\n",
      "Epoch 3/15\n",
      "64/64 [==============================] - 26s 406ms/step - loss: 0.0992 - accuracy: 0.9667\n",
      "Epoch 4/15\n",
      "64/64 [==============================] - 26s 405ms/step - loss: 0.0869 - accuracy: 0.9731\n",
      "Epoch 5/15\n",
      "64/64 [==============================] - 26s 408ms/step - loss: 0.0575 - accuracy: 0.9853\n",
      "Epoch 6/15\n",
      "64/64 [==============================] - 26s 402ms/step - loss: 0.0556 - accuracy: 0.9834\n",
      "Epoch 7/15\n",
      "64/64 [==============================] - 26s 405ms/step - loss: 0.0686 - accuracy: 0.9794\n",
      "Epoch 8/15\n",
      "64/64 [==============================] - 26s 401ms/step - loss: 0.0662 - accuracy: 0.9750\n",
      "Epoch 9/15\n",
      "64/64 [==============================] - 25s 398ms/step - loss: 0.0417 - accuracy: 0.9878\n",
      "Epoch 10/15\n",
      "64/64 [==============================] - 23s 354ms/step - loss: 0.0410 - accuracy: 0.9873\n",
      "Epoch 11/15\n",
      "64/64 [==============================] - 17s 265ms/step - loss: 0.0275 - accuracy: 0.9927\n",
      "Epoch 12/15\n",
      "64/64 [==============================] - 22s 338ms/step - loss: 0.0216 - accuracy: 0.9927\n",
      "Epoch 13/15\n",
      "64/64 [==============================] - 21s 313ms/step - loss: 0.0389 - accuracy: 0.9858\n",
      "Epoch 14/15\n",
      "64/64 [==============================] - 16s 245ms/step - loss: 0.0306 - accuracy: 0.9907\n",
      "Epoch 15/15\n",
      "64/64 [==============================] - 15s 241ms/step - loss: 0.0199 - accuracy: 0.9936\n"
     ]
    },
    {
     "data": {
      "text/plain": [
       "<keras.callbacks.History at 0x15f7fdc6b70>"
      ]
     },
     "execution_count": 11,
     "metadata": {},
     "output_type": "execute_result"
    }
   ],
   "source": [
    "model.fit(train_data,train_target,epochs=15)"
   ]
  },
  {
   "cell_type": "code",
   "execution_count": 12,
   "metadata": {},
   "outputs": [
    {
     "name": "stdout",
     "output_type": "stream",
     "text": [
      "8/8 [==============================] - 1s 137ms/step - loss: 0.0380 - accuracy: 0.9912\n",
      "[0.03798148036003113, 0.9912280440330505]\n"
     ]
    }
   ],
   "source": [
    "print(model.evaluate(test_data,test_target))# evaluate test data"
   ]
  },
  {
   "cell_type": "code",
   "execution_count": 13,
   "metadata": {},
   "outputs": [
    {
     "name": "stdout",
     "output_type": "stream",
     "text": [
      "WARNING:tensorflow:From D:\\anaconda\\envs\\tf2\\lib\\site-packages\\tensorflow\\python\\training\\tracking\\tracking.py:111: Model.state_updates (from tensorflow.python.keras.engine.training) is deprecated and will be removed in a future version.\n",
      "Instructions for updating:\n",
      "This property should not be used in TensorFlow 2.0, as updates are applied automatically.\n",
      "WARNING:tensorflow:From D:\\anaconda\\envs\\tf2\\lib\\site-packages\\tensorflow\\python\\training\\tracking\\tracking.py:111: Layer.updates (from tensorflow.python.keras.engine.base_layer) is deprecated and will be removed in a future version.\n",
      "Instructions for updating:\n",
      "This property should not be used in TensorFlow 2.0, as updates are applied automatically.\n",
      "INFO:tensorflow:Assets written to: Covid_model\\assets\n"
     ]
    }
   ],
   "source": [
    "model.save(r'Covid_model') #saved the  model"
   ]
  },
  {
   "cell_type": "code",
   "execution_count": null,
   "metadata": {},
   "outputs": [],
   "source": []
  }
 ],
 "metadata": {
  "kernelspec": {
   "display_name": "Python 3",
   "language": "python",
   "name": "python3"
  },
  "language_info": {
   "codemirror_mode": {
    "name": "ipython",
    "version": 3
   },
   "file_extension": ".py",
   "mimetype": "text/x-python",
   "name": "python",
   "nbconvert_exporter": "python",
   "pygments_lexer": "ipython3",
   "version": "3.6.9"
  }
 },
 "nbformat": 4,
 "nbformat_minor": 4
}
